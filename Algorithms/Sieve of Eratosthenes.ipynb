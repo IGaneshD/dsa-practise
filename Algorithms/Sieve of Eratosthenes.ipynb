{
 "cells": [
  {
   "cell_type": "markdown",
   "id": "f4884993-745c-4713-91bf-3b5c0639778d",
   "metadata": {},
   "source": [
    "# Find All Prime Numbers smaller than n"
   ]
  },
  {
   "cell_type": "code",
   "execution_count": 52,
   "id": "b2ee37eb-20ad-4eb0-a990-514f317e7c7b",
   "metadata": {},
   "outputs": [],
   "source": [
    "def findAllPrimes(n):\n",
    "    primes = [True]*n\n",
    "    result = []\n",
    "    p = 2\n",
    "    while(p*p <= n):\n",
    "\n",
    "        if primes[p] == True:\n",
    "\n",
    "            for i in range(p*p, n, p):\n",
    "                primes[i] = False\n",
    "                \n",
    "        p += 1\n",
    "\n",
    "    result.extend([i for i in range(2, n) if primes[i]])\n",
    "\n",
    "    return result"
   ]
  },
  {
   "cell_type": "code",
   "execution_count": 53,
   "id": "aea011ec-f135-41a0-9419-31db13e1c544",
   "metadata": {},
   "outputs": [
    {
     "name": "stdout",
     "output_type": "stream",
     "text": [
      "8.11 μs ± 321 ns per loop (mean ± std. dev. of 7 runs, 100,000 loops each)\n"
     ]
    }
   ],
   "source": [
    "%timeit findAllPrimes(100)"
   ]
  },
  {
   "cell_type": "code",
   "execution_count": 78,
   "id": "10ab1234-ec9d-45df-aa23-d85652802d2e",
   "metadata": {},
   "outputs": [
    {
     "name": "stdout",
     "output_type": "stream",
     "text": [
      "[]\n",
      "[]\n",
      "[2]\n",
      "[2, 3]\n",
      "[2, 3]\n",
      "[2, 3, 5]\n",
      "[2, 3, 5]\n",
      "[2, 3, 5, 7]\n",
      "[2, 3, 5, 7]\n",
      "[2, 3, 5, 7]\n"
     ]
    }
   ],
   "source": [
    "import math as m\n",
    "def main(n):\n",
    "    def is_prime(num):\n",
    "            if num <2:\n",
    "                return False\n",
    "            sqrt = int(m.sqrt(num)) + 1\n",
    "            for i in range(2, sqrt):\n",
    "                if num%i==0:\n",
    "                    return False\n",
    "            return True\n",
    "    \n",
    "    l = []\n",
    "    for i in range(10):\n",
    "        if is_prime(i):\n",
    "            l.append(i)\n",
    "        print(l)\n"
   ]
  },
  {
   "cell_type": "code",
   "execution_count": 81,
   "id": "a07ab804-2649-41bf-8cad-1c8afcc23b05",
   "metadata": {},
   "outputs": [
    {
     "name": "stdout",
     "output_type": "stream",
     "text": [
      "20.1 ns ± 1.7 ns per loop (mean ± std. dev. of 7 runs, 10,000,000 loops each)\n"
     ]
    }
   ],
   "source": [
    "%timeit main(10)"
   ]
  },
  {
   "cell_type": "code",
   "execution_count": 40,
   "id": "706605aa-dfe7-456b-9617-61c75de659db",
   "metadata": {},
   "outputs": [],
   "source": [
    "import cProfile"
   ]
  },
  {
   "cell_type": "code",
   "execution_count": 41,
   "id": "bb83ad47-8e3c-415b-93e7-f6fd06db7e43",
   "metadata": {},
   "outputs": [
    {
     "name": "stdout",
     "output_type": "stream",
     "text": [
      "         5 function calls in 0.000 seconds\n",
      "\n",
      "   Ordered by: standard name\n",
      "\n",
      "   ncalls  tottime  percall  cumtime  percall filename:lineno(function)\n",
      "        1    0.000    0.000    0.000    0.000 1279993683.py:1(main)\n",
      "        1    0.000    0.000    0.000    0.000 1279993683.py:2(is_prime)\n",
      "        1    0.000    0.000    0.000    0.000 <string>:1(<module>)\n",
      "        1    0.000    0.000    0.000    0.000 {built-in method builtins.exec}\n",
      "        1    0.000    0.000    0.000    0.000 {method 'disable' of '_lsprof.Profiler' objects}\n",
      "\n",
      "\n"
     ]
    }
   ],
   "source": [
    "cProfile.run(\"main(100)\")"
   ]
  },
  {
   "cell_type": "code",
   "execution_count": 42,
   "id": "e7816776-5ac3-4c18-a197-79e013864f70",
   "metadata": {},
   "outputs": [
    {
     "name": "stdout",
     "output_type": "stream",
     "text": [
      "         5 function calls in 0.000 seconds\n",
      "\n",
      "   Ordered by: standard name\n",
      "\n",
      "   ncalls  tottime  percall  cumtime  percall filename:lineno(function)\n",
      "        1    0.000    0.000    0.000    0.000 1432237476.py:1(findAllPrimes)\n",
      "        1    0.000    0.000    0.000    0.000 <string>:1(<module>)\n",
      "        1    0.000    0.000    0.000    0.000 {built-in method builtins.exec}\n",
      "        1    0.000    0.000    0.000    0.000 {method 'disable' of '_lsprof.Profiler' objects}\n",
      "        1    0.000    0.000    0.000    0.000 {method 'extend' of 'list' objects}\n",
      "\n",
      "\n"
     ]
    }
   ],
   "source": [
    "cProfile.run(\"findAllPrimes(100)\")"
   ]
  }
 ],
 "metadata": {
  "kernelspec": {
   "display_name": "Python 3 (ipykernel)",
   "language": "python",
   "name": "python3"
  },
  "language_info": {
   "codemirror_mode": {
    "name": "ipython",
    "version": 3
   },
   "file_extension": ".py",
   "mimetype": "text/x-python",
   "name": "python",
   "nbconvert_exporter": "python",
   "pygments_lexer": "ipython3",
   "version": "3.12.0"
  }
 },
 "nbformat": 4,
 "nbformat_minor": 5
}
